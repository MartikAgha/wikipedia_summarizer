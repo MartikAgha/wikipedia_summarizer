{
 "cells": [
  {
   "cell_type": "code",
   "execution_count": 62,
   "id": "e0dd9ebb-88a6-4df0-9d6e-ca12453c76a5",
   "metadata": {},
   "outputs": [],
   "source": [
    "import os\n",
    "import requests\n",
    "from bs4 import BeautifulSoup\n",
    "import openai\n",
    "from dotenv import load_dotenv\n",
    "\n",
    "load_dotenv(override=True)\n",
    "openai_api_key = os.getenv('OPENAI_API_KEY')\n",
    "google_search_key = os.getenv('GOOGLE_API_KEY')\n",
    "search_engine_id = os.getenv('SEARCH_ENGINE_CX_ID')"
   ]
  },
  {
   "cell_type": "code",
   "execution_count": 50,
   "id": "a1d0822e-c3e2-473e-a115-c30443c0e75a",
   "metadata": {},
   "outputs": [
    {
     "name": "stdout",
     "output_type": "stream",
     "text": [
      "https://en.wikipedia.org/wiki/Bill_Gates\n"
     ]
    }
   ],
   "source": [
    "def google_search_wikipedia(query):\n",
    "    url = f\"https://www.googleapis.com/customsearch/v1\"\n",
    "    params = {\n",
    "        \"q\": query + \" site:wikipedia.org\",\n",
    "        \"key\": google_search_key,\n",
    "        \"cx\": search_engine_id,\n",
    "        \"num\": 1  # Get only the top result\n",
    "    }\n",
    "\n",
    "    response = requests.get(url, params=params)\n",
    "    data = response.json()\n",
    "\n",
    "    if \"items\" in data:\n",
    "        first_link = data[\"items\"][0][\"link\"]\n",
    "        if \"wikipedia.org/wiki/\" in first_link:  # Ensure it's a Wikipedia article\n",
    "            return first_link\n",
    "    return None\n",
    "\n",
    "    \n",
    "test_page = google_search_wikipedia(\" who is Bill Gates\")\n",
    "print(test_page)"
   ]
  },
  {
   "cell_type": "code",
   "execution_count": 43,
   "id": "431c8768-9b54-4189-843c-1e2282f455a5",
   "metadata": {},
   "outputs": [
    {
     "name": "stdout",
     "output_type": "stream",
     "text": [
      "William Henry Gates III  (born October 28, 1955) is an American businessman and philanthropist best known for co-founding the software company Microsoft with his childhood friend Paul Allen. He later held the positions of chairman, chief executive officer (CEO), president, and chief software architect of the company. Gates was also its largest individual shareholder until May 2014.[a] He was a pioneer of the microcomputer revolution of the 1970s and 1980s.\n",
      "\n",
      "In June 2008, Gates transitioned into a part-time role at Microsoft and full-time work at the Bill & Melinda Gates Foundation, the private charitable foundation he and his then-wife Melinda had established in 2000. He stepped down as chairman of the Microsoft board in February 2014 and assumed the role of technology adviser to support newly appointed CEO Satya Nadella. In March 2020, Gates left his board positions at Microsoft and Berkshire Hathaway to focus on his philanthropic efforts on climate change, global health and development, and education.\n",
      "\n",
      "Gates was born and raised in Seattle, Washington. In 1975, he and Allen founded Microsoft in Albuquerque, New Mexico. Gates led the company as its chairman and chief executive officer until stepping down as CEO in January 2000, succeeded by Steve Ballmer, but he remained chairman of the board of directors and became chief software architect. During the late 1990s, he was criticized for his business tactics, which were considered anti-competitive.\n",
      "\n",
      "Since 1987, Gates has been included in the Forbes list of the world's top billionaires. From 1995 to 2017, he held the title of the wealthiest person in the world every year except in 2008 and from 2010 to 2013. In 1999, he became the first ever centibillionaire when his net worth briefly surpassed US$100 billion. Since leaving day-to-day operations at Microsoft in 2008, Gates has pursued other business and philanthropic endeavors.\n",
      "\n",
      "He is the founder and chairman of several companies, including BEN, Cascade Investment, TerraPower, Gates Ventures, and Breakthrough Energy. He has donated to various charitable organizations and scientific research programs through the Bill & Melinda Gates Foundation, reported to be the world's largest private charity. Through the foundation, he led an early 21st century vaccination campaign that significantly contributed to the eradication of the wild poliovirus in Africa. In 2010, Gates and Warren Buffett founded the Giving Pledge, whereby they and other billionaires pledge to give at least half of their wealth towards philanthropy.\n"
     ]
    }
   ],
   "source": [
    "import requests\n",
    "from bs4 import BeautifulSoup\n",
    "\n",
    "def scrape_wikipedia_page(url):\n",
    "    \"\"\"Scrapes the first paragraph from a Wikipedia page.\"\"\"\n",
    "    response = requests.get(url)\n",
    "    soup = BeautifulSoup(response.text, \"html.parser\")\n",
    "\n",
    "    paragraphs = soup.select(\"div.mw-parser-output > p\")\n",
    "    total_paragraphs = []\n",
    "    for para in paragraphs:\n",
    "        if para.text.strip():\n",
    "            total_paragraphs.append(para.text.strip())\n",
    "    if len(total_paragraphs) == 0:\n",
    "        return \"No content found.\"\n",
    "    else:\n",
    "        return '\\n\\n'.join(total_paragraphs)\n",
    "\n",
    "print(scrape_wikipedia_page(test_page))"
   ]
  },
  {
   "cell_type": "code",
   "execution_count": 75,
   "id": "4974c856-d239-4edc-8972-2a5e621ab719",
   "metadata": {
    "scrolled": true
   },
   "outputs": [
    {
     "name": "stdout",
     "output_type": "stream",
     "text": [
      "Bill Gates - Wikipedia\n",
      "William Henry Gates III  (born October 28, 1955) is an American businessman and philanthropist best known for co-founding the software company Microsoft with his childhood friend Paul Allen. He later held the positions of chairman, chief executive officer (CEO), president, and chief software architect of the company. Gates was also its largest individual shareholder until May 2014.[a] He was a pioneer of the microcomputer revolution of the 1970s and 1980s.\n",
      "\n",
      "In June 2008, Gates transitioned into a part-time role at Microsoft and full-time work at the Bill & Melinda Gates Foundation, the private charitable foundation he and his then-wife Melinda had established in 2000. He stepped down as chairman of the Microsoft board in February 2014 and assumed the role of technology adviser to support newly appointed CEO Satya Nadella. In March 2020, Gates left his board positions at Microsoft and Berkshire Hathaway to focus on his philanthropic efforts on climate change, global health and development, and education.\n",
      "\n",
      "Gates was born and raised in Seattle, Washington. In 1975, he and Allen founded Microsoft in Albuquerque, New Mexico. Gates led the company as its chairman and chief executive officer until stepping down as CEO in January 2000, succeeded by Steve Ballmer, but he remained chairman of the board of directors and became chief software architect. During the late 1990s, he was criticized for his business tactics, which were considered anti-competitive.\n",
      "\n",
      "Since 1987, Gates has been included in the Forbes list of the world's top billionaires. From 1995 to 2017, he held the title of the wealthiest person in the world every year except in 2008 and from 2010 to 2013. In 1999, he became the first ever centibillionaire when his net worth briefly surpassed US$100 billion. Since leaving day-to-day operations at Microsoft in 2008, Gates has pursued other business and philanthropic endeavors.\n",
      "\n",
      "He is the founder and chairman of several companies, including BEN, Cascade Investment, TerraPower, Gates Ventures, and Breakthrough Energy. He has donated to various charitable organizations and scientific research programs through the Bill & Melinda Gates Foundation, reported to be the world's largest private charity. Through the foundation, he led an early 21st century vaccination campaign that significantly contributed to the eradication of the wild poliovirus in Africa. In 2010, Gates and Warren Buffett founded the Giving Pledge, whereby they and other billionaires pledge to give at least half of their wealth towards philanthropy.\n"
     ]
    }
   ],
   "source": [
    "headers = {\n",
    "    'User-Agent':  \"Mozilla/5.0 (Windows NT 10.0; Win64; x64) AppleWebKit/537.36 (KHTML, like Gecko) Chrome/117.0.0.0 Safari/537.36\"\n",
    "}\n",
    "\n",
    "class Website:\n",
    "    def __init__(self, url):\n",
    "        self.url = url\n",
    "        response = requests.get(url, headers=headers)\n",
    "        soup = BeautifulSoup(response.content, 'html.parser')\n",
    "        self.title = soup.title.string if soup.title else \"No title found\"\n",
    "        for irrelevant in soup.body(['script', 'style', 'img', 'input']):\n",
    "            irrelevant.decompose()\n",
    "        self.text = soup.body.get_text()\n",
    "        paragraphs = soup.select(\"div.mw-parser-output > p\")\n",
    "        for para in paragraphs:\n",
    "            if para.text.strip():\n",
    "                self.main_paragraph = para.text.strip()\n",
    "\n",
    "class WikiWebsite:\n",
    "    def __init__(self, url):\n",
    "        \"\"\"Scrapes the first paragraph from a Wikipedia page.\"\"\"\n",
    "        self.url = url\n",
    "        response = requests.get(url, headers=headers)\n",
    "        soup = BeautifulSoup(response.content, 'html.parser')\n",
    "        self.title = soup.title.string if soup.title else \"No title found\"\n",
    "        for irrelevant in soup.body(['script', 'style', 'img', 'input']):\n",
    "            irrelevant.decompose()\n",
    "        self.text = soup.body.get_text()\n",
    "        paragraphs = soup.select(\"div.mw-parser-output > p\")\n",
    "\n",
    "        all_paras = []\n",
    "        for para in paragraphs:\n",
    "            if para.text.strip():\n",
    "                all_paras.append(para.text.strip())\n",
    "\n",
    "        if len(all_paras) == 0:\n",
    "            self.main_text = \"No content found.\"\n",
    "        else:\n",
    "            self.main_text = '\\n\\n'.join(all_paras)\n",
    "\n",
    "\n",
    "site = WikipediaWebsite(test_page)\n",
    "print(site.title)\n",
    "print(site.main_text)"
   ]
  },
  {
   "cell_type": "code",
   "execution_count": 79,
   "id": "f865fd7c-c9dd-4359-8a74-26617a2f0c02",
   "metadata": {},
   "outputs": [],
   "source": [
    "system_prompt = \"You are an assistant that analyzes the contents of a website \\\n",
    "and provides a short summary, ignoring text that might be navigation related. \\\n",
    "Respond in markdown.\"\n",
    "\n",
    "def user_prompt_for(website):\n",
    "    user_prompt = f\"You are looking at a website titled {website.title}\"\n",
    "    user_prompt += \"\\nThe contents of this website is as follows; \\\n",
    "please provide a short summary of this website in markdown. \\\n",
    "If it includes news or announcements, then summarize these too.\\n\\n\"\n",
    "    user_prompt += website.main_text\n",
    "    return user_prompt\n",
    "\n",
    "def messages_for(website):\n",
    "    return [\n",
    "                {'role': 'system', 'content': system_prompt},\n",
    "                {'role': 'user', 'content': user_prompt_for(website)}\n",
    "            ]"
   ]
  },
  {
   "cell_type": "code",
   "execution_count": 80,
   "id": "23481e85-1022-476b-9bf5-df9f822c6213",
   "metadata": {},
   "outputs": [],
   "source": [
    "def summarize(url):\n",
    "    website = WikiWebsite(url)\n",
    "    oai = openai.OpenAI()\n",
    "    response = oai.chat.completions.create(\n",
    "        model='gpt-4o-mini',\n",
    "        messages=messages_for(website)\n",
    "    )\n",
    "    return response.choices[0].message.content"
   ]
  },
  {
   "cell_type": "code",
   "execution_count": 81,
   "id": "9fd61fa4-cfed-4ced-97ec-9eda72b9fe4e",
   "metadata": {},
   "outputs": [
    {
     "data": {
      "text/plain": [
       "\"# Summary of Bill Gates - Wikipedia\\n\\nWilliam Henry Gates III (born October 28, 1955) is an American businessman and philanthropist, widely recognized for co-founding Microsoft alongside Paul Allen. Gates was instrumental in the microcomputer revolution of the 1970s and 1980s and held various leadership roles in Microsoft until he transitioned to a part-time role in 2008, later focusing full-time on the Bill & Melinda Gates Foundation.\\n\\n## Key Events:\\n- **Transition to Philanthropy**: Gates moved to part-time at Microsoft in June 2008 and fully committed to philanthropy through his foundation, which he started with Melinda in 2000.\\n- **Board Positions**: He left his board positions at Microsoft and Berkshire Hathaway in March 2020 to prioritize his philanthropic work in areas like climate change, global health, and education.\\n- **Business and Philanthropy**: He has established several companies including BEN, Cascade Investment, and TerraPower. The Bill & Melinda Gates Foundation is the world's largest private charity, notable for its contribution to vaccinations and public health initiatives. \\n\\n## Philanthropic Initiatives:\\n- Gates co-founded the **Giving Pledge** in 2010 with Warren Buffett, encouraging billionaires to donate at least half of their wealth to charitable causes.\\n- He was instrumental in vaccination campaigns that have helped to eradicate the wild poliovirus in Africa.\\n\\nGates' influence continues in both the tech industry and philanthropic efforts, making significant strides toward global development and public health.\""
      ]
     },
     "execution_count": 81,
     "metadata": {},
     "output_type": "execute_result"
    }
   ],
   "source": [
    "summarize(test_page)"
   ]
  },
  {
   "cell_type": "code",
   "execution_count": null,
   "id": "6f2e7e09-ab0c-4f9d-992f-b976b1a094ce",
   "metadata": {},
   "outputs": [],
   "source": []
  }
 ],
 "metadata": {
  "kernelspec": {
   "display_name": "Python 3 (ipykernel)",
   "language": "python",
   "name": "python3"
  },
  "language_info": {
   "codemirror_mode": {
    "name": "ipython",
    "version": 3
   },
   "file_extension": ".py",
   "mimetype": "text/x-python",
   "name": "python",
   "nbconvert_exporter": "python",
   "pygments_lexer": "ipython3",
   "version": "3.11.5"
  }
 },
 "nbformat": 4,
 "nbformat_minor": 5
}
